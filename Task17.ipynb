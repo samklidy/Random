{
 "cells": [
  {
   "cell_type": "markdown",
   "metadata": {},
   "source": [
    "Домашнее задание к лекции «Случайные события. Случайные величины»\n",
    "Преподаватель: Олег Булыгин\n",
    "Домашнее задание к лекции.\n",
    "http://prntscr.com/uh35yg\n",
    "\n",
    "Смоделировать игру против лотерейного автомата типа “777”. Игрок платит 1 руб., после чего выпадает случайное целое число, равномерно распределенное от 0 до 999. При некоторых значениях числа игрок получает выигрыш (см. справа)\n",
    "\n",
    "Выгодна ли игра игроку?\n",
    "\n",
    "Сколько в среднем приобретает\n",
    "или теряет игрок за одну игру?\n",
    "\n",
    "777: 200 руб.\n",
    "999: 100 руб.\n",
    "555: 50 руб.\n",
    "333: 15 руб.\n",
    "111: 10 руб.\n",
    "*77: 5 руб.\n",
    "**7: 3 руб.\n",
    "*00: 2 руб.\n",
    "**0: 1 руб.\n",
    "\n",
    "– любая цифра\n",
    "Дополнительное задание повышенной сложности. Теоретически рассчитать средний выигрыш (проигрыш) и сравнить с результатами моделирования"
   ]
  },
  {
   "cell_type": "code",
   "execution_count": 14,
   "metadata": {},
   "outputs": [
    {
     "name": "stdout",
     "output_type": "stream",
     "text": [
      "-30\n"
     ]
    }
   ],
   "source": [
    "import numpy as np\n",
    "import re\n",
    "\n",
    "trials = 50    # Количество попыток\n",
    "successes = 0 # Количество успехов\n",
    "money = 0 # Количество потраченных денег\n",
    "\n",
    "dic_ = {'777': 200, '999': 100, '555': 50, '333': 15, '111': 10}\n",
    "\n",
    "for i in range(trials):\n",
    "    random_score = np.random.randint(0, 999)\n",
    "    if random_score in dic_:\n",
    "        successes += dic_[random_score]\n",
    "        money += 1\n",
    "    elif re.findall(r'\\d77', str(random_score)):\n",
    "        successes += 5\n",
    "        money += 1\n",
    "    elif re.findall(r'\\d{2}7', str(random_score)):\n",
    "        successes += 3\n",
    "        money += 1\n",
    "    elif re.findall(r'\\d00', str(random_score)):\n",
    "        successes += 2\n",
    "        money += 1\n",
    "    elif re.findall(r'\\d{2}0', str(random_score)):\n",
    "        successes += 1\n",
    "        money += 1\n",
    "    else:\n",
    "        money += 1\n",
    "total = successes - money\n",
    "print(total)"
   ]
  },
  {
   "cell_type": "code",
   "execution_count": null,
   "metadata": {},
   "outputs": [],
   "source": []
  }
 ],
 "metadata": {
  "kernelspec": {
   "display_name": "Python 3",
   "language": "python",
   "name": "python3"
  },
  "language_info": {
   "codemirror_mode": {
    "name": "ipython",
    "version": 3
   },
   "file_extension": ".py",
   "mimetype": "text/x-python",
   "name": "python",
   "nbconvert_exporter": "python",
   "pygments_lexer": "ipython3",
   "version": "3.8.3"
  }
 },
 "nbformat": 4,
 "nbformat_minor": 4
}
